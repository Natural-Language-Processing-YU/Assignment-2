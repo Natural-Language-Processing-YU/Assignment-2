{
  "nbformat": 4,
  "nbformat_minor": 0,
  "metadata": {
    "colab": {
      "provenance": [],
      "authorship_tag": "ABX9TyNK6bzedTy3wAko0ZM1/Gbg",
      "include_colab_link": true
    },
    "kernelspec": {
      "name": "python3",
      "display_name": "Python 3"
    },
    "language_info": {
      "name": "python"
    }
  },
  "cells": [
    {
      "cell_type": "markdown",
      "metadata": {
        "id": "view-in-github",
        "colab_type": "text"
      },
      "source": [
        "<a href=\"https://colab.research.google.com/github/Natural-Language-Processing-YU/Module-3-Assignment/blob/main/M3_Part_II_Assignment_COPY.ipynb\" target=\"_parent\"><img src=\"https://colab.research.google.com/assets/colab-badge.svg\" alt=\"Open In Colab\"/></a>"
      ]
    },
    {
      "cell_type": "markdown",
      "source": [
        "# I. Rule-based and Statistical Approaches for Part-of-Speech Tagging\n",
        "\n",
        "Part-of-Speech tagging, also known as POS tagging, is the process of assigning grammatical tags or labels to words in a sentence. The tags represent the syntactic category or part of speech of each word, such as noun, verb, adjective, adverb, etc. POS tagging is an essential step in many Natural Language Processing (NLP) tasks, including parsing, machine translation, and information retrieval.\n",
        "\n",
        "POS tagging can be approached using different techniques, including rule-based approaches, statistical approaches, and hybrid approaches that combine both. In statistical approaches, Hidden Markov Models (HMMs) and Maximum Entropy Markov Models (MEMMs) are commonly used.\n",
        "\n",
        "Implement a rule-based part-of-speech (POS) tagger:\n",
        "* a. Write a set of rules to assign POS tags to words based on their context\n",
        "* b. Apply the rules to a sample text and evaluate the accuracy of the tagger.\n",
        "\n",
        "\n",
        "\n",
        "Implement a statistical POS tagger using a pre-trained model:\n",
        "\n",
        "\n",
        "* a. Train a statistical POS tagger on a labeled corpus using a machine learning algorithm such as Naive Bayes or Maximum Entropy.\n",
        "* b. Apply the trained model to tag a sample text and evaluate its accuracy.\n",
        "\n",
        "\n",
        "\n"
      ],
      "metadata": {
        "id": "4Q05trEvPpQw"
      }
    },
    {
      "cell_type": "code",
      "source": [
        "import nltk\n",
        "import re\n",
        "nltk.download('punkt')\n",
        "nltk.download('treebank')\n",
        "nltk.download('averaged_perceptron_tagger')\n",
        "nltk.download('maxent_ne_chunker') #The maxent_ne_chunker contains two pre-trained English named entity chunkers trained on an ACE corpus (perhaps ACE ACE 2004 Multilingual Training Corpus?)"
      ],
      "metadata": {
        "colab": {
          "base_uri": "https://localhost:8080/"
        },
        "id": "lJ2RhiyPSCv6",
        "outputId": "fe317ed9-6c3f-4c4b-c53a-4c77a27ff65f"
      },
      "execution_count": null,
      "outputs": [
        {
          "output_type": "stream",
          "name": "stderr",
          "text": [
            "[nltk_data] Downloading package punkt to /root/nltk_data...\n",
            "[nltk_data]   Package punkt is already up-to-date!\n",
            "[nltk_data] Downloading package treebank to /root/nltk_data...\n",
            "[nltk_data]   Package treebank is already up-to-date!\n",
            "[nltk_data] Downloading package averaged_perceptron_tagger to\n",
            "[nltk_data]     /root/nltk_data...\n",
            "[nltk_data]   Package averaged_perceptron_tagger is already up-to-\n",
            "[nltk_data]       date!\n",
            "[nltk_data] Downloading package maxent_ne_chunker to\n",
            "[nltk_data]     /root/nltk_data...\n",
            "[nltk_data]   Unzipping chunkers/maxent_ne_chunker.zip.\n"
          ]
        },
        {
          "output_type": "execute_result",
          "data": {
            "text/plain": [
              "True"
            ]
          },
          "metadata": {},
          "execution_count": 51
        }
      ]
    },
    {
      "cell_type": "code",
      "execution_count": null,
      "metadata": {
        "id": "gXSDBSDaPY12"
      },
      "outputs": [],
      "source": [
        "from nltk import pos_tag, ne_chunk\n",
        "from nltk.tokenize import word_tokenize\n",
        "from nltk.corpus import treebank\n",
        "from nltk.tag import DefaultTagger, UnigramTagger, BigramTagger #important for POS tagging\n",
        "\n",
        "\n",
        "# Part 1: Rule-based and Statistical Approaches for Part-of-Speech Tagging\n",
        "\n",
        "# Rule-based POS Tagger\n",
        "def rule_based_pos_tagger(sentence):\n",
        "    # Define your rules here\n",
        "    rules = [\n",
        "          (re.compile(r'\\bThe\\b'), 'DT'),\n",
        "          (re.compile(r'\\bcat\\b'), 'NN'),\n",
        "          (re.compile(r'\\bis\\b'), 'VB'),\n",
        "          (re.compile(r'\\bsitting\\b'), 'VB'),\n",
        "          (re.compile(r'\\bon\\b'), 'IN'),\n",
        "          (re.compile(r'\\bthe\\b'), 'DT'),\n",
        "          (re.compile(r'\\bmat\\b'), 'NN'),\n",
        "      ]\n",
        "    tagged_sentence = []\n",
        "    words = word_tokenize(sentence)\n",
        "    for word in words:\n",
        "        for pattern, tag in rules:\n",
        "            if pattern.match(word):\n",
        "                tagged_sentence.append((word, tag))\n",
        "                break\n",
        "        else:\n",
        "            tagged_sentence.append((word, 'UNKNOWN'))\n",
        "    return tagged_sentence\n",
        "\n",
        "# Statistical POS Tagger\n",
        "def statistical_pos_tagger(sentence):\n",
        "    # Train your model on a labeled corpus (e.g., treebank)\n",
        "    train_data = treebank.tagged_sents()[:3000]\n",
        "    # Train your statistical model here\n",
        "\n",
        "    # Split data into training and testing sets\n",
        "    train_size = int(len(train_data) * 0.8)\n",
        "    train_set = train_data[:train_size]\n",
        "    test_set = train_data[train_size:]\n",
        "\n",
        "    # Create taggers\n",
        "    default_tagger = DefaultTagger('NN')  # Default tagger assigns 'NN' to all words\n",
        "    unigram_tagger = UnigramTagger(train_set, backoff=default_tagger)  # Unigram tagger using training set\n",
        "    bigram_tagger = BigramTagger(train_set, backoff=unigram_tagger)  # Bigram tagger using training set and fallback to unigram tagger\n",
        "\n",
        "    # Evaluate on test set\n",
        "    accuracy = bigram_tagger.accuracy(test_set)\n",
        "    print(\"Accuracy:\", accuracy)\n",
        "\n",
        "\n",
        "    # Apply the trained model to tag the sentence\n",
        "    tagged_sentence  = bigram_tagger.tag(word_tokenize(sentence))\n",
        "    #tagged_sentence = nltk.pos_tag(words)\n",
        "    #tagged_sentence.append(tagged_sentence)\n",
        "    return tagged_sentence\n"
      ]
    },
    {
      "cell_type": "code",
      "source": [
        "# Part 1: Rule-based and Statistical Approaches for Part-of-Speech Tagging\n",
        "sample_sentence = \"The cat is sitting on the mat.\"\n",
        "\n",
        "# Rule-based POS Tagging\n",
        "rule_based_tags = rule_based_pos_tagger(sample_sentence)\n",
        "print(\"Rule-based POS Tags:\")\n",
        "print(rule_based_tags)\n",
        "\n",
        "# Statistical POS Tagging\n",
        "statistical_tags = statistical_pos_tagger(sample_sentence)\n",
        "print(\"Statistical POS Tags:\")\n",
        "print(statistical_tags)\n"
      ],
      "metadata": {
        "colab": {
          "base_uri": "https://localhost:8080/"
        },
        "id": "exUD_vjjR6T7",
        "outputId": "a0b0fc20-1684-4495-f85e-a1c6112b5ef9"
      },
      "execution_count": null,
      "outputs": [
        {
          "output_type": "stream",
          "name": "stdout",
          "text": [
            "Rule-based POS Tags:\n",
            "[('The', 'DT'), ('cat', 'NN'), ('is', 'VB'), ('sitting', 'VB'), ('on', 'IN'), ('the', 'DT'), ('mat', 'NN'), ('.', 'UNKNOWN')]\n",
            "Accuracy: 0.8748033560566335\n",
            "Statistical POS Tags:\n",
            "[('The', 'DT'), ('cat', 'NN'), ('is', 'VBZ'), ('sitting', 'VBG'), ('on', 'IN'), ('the', 'DT'), ('mat', 'NN'), ('.', '.')]\n"
          ]
        }
      ]
    },
    {
      "cell_type": "markdown",
      "source": [
        "Additionally, NLTK has a built in function call ```pos_tags``\n",
        "See example below"
      ],
      "metadata": {
        "id": "zoASyaNWdgYW"
      }
    },
    {
      "cell_type": "code",
      "source": [
        "sample_sentence = \"The cat is sitting on the mat.\"\n",
        "\n",
        "tagged_sentence = nltk.pos_tag(word_tokenize(sample_sentence))\n",
        "print(tagged_sentence)"
      ],
      "metadata": {
        "colab": {
          "base_uri": "https://localhost:8080/"
        },
        "id": "AYSqHPf4dpMS",
        "outputId": "cacc9953-440d-4f8d-c621-1def61096d87"
      },
      "execution_count": null,
      "outputs": [
        {
          "output_type": "stream",
          "name": "stdout",
          "text": [
            "[('The', 'DT'), ('cat', 'NN'), ('is', 'VBZ'), ('sitting', 'VBG'), ('on', 'IN'), ('the', 'DT'), ('mat', 'NN'), ('.', '.')]\n"
          ]
        }
      ]
    },
    {
      "cell_type": "markdown",
      "source": [
        " ### Exercise\n",
        "\n",
        "Update the Rule-based tagger with patterns using regex. An example could be:\n",
        "\n",
        "\n",
        "\n",
        "      ```  (r'\\b\\w+s\\b|\\b\\w+es\\b', 'NN'),     # Nouns ending ```\n",
        "\n",
        "  From here proivde an updated rule-based tagger and statistical based tagger that can apply a part of speech tag for the following complex sentence:\n",
        "\n",
        "  ```\n",
        "  sentence = \"The quick brown fox jumps over the lazy dog while it's raining heavily.\"\n",
        "\n",
        "  ```"
      ],
      "metadata": {
        "id": "S9jgjuE4euOi"
      }
    },
    {
      "cell_type": "code",
      "source": [
        "##### START CODE ####\n",
        "\n",
        "\"\"\" Enter code here\"\"\"\n",
        "\n",
        "#### END CODE ####\n"
      ],
      "metadata": {
        "id": "zsFIKF3QetPp"
      },
      "execution_count": null,
      "outputs": []
    },
    {
      "cell_type": "code",
      "source": [
        "#show printed output below\n",
        "sentence = \"The quick brown fox jumps over the lazy dog while it's raining heavily.\"\n",
        "\"\"\"your POS tagging function\"\"\""
      ],
      "metadata": {
        "id": "v3qmcVF6hxrR"
      },
      "execution_count": null,
      "outputs": []
    },
    {
      "cell_type": "markdown",
      "source": [
        "# II. Hidden Markov Models (HMM) for POS Tagging\n",
        "A Hidden Markov Model (HMM) is a statistical model that is widely used in various applications, including Natural Language Processing (NLP). An HMM is a type of generative model that incorporates hidden states and observable outputs. It assumes that there is an underlying sequence of hidden states that generates a sequence of observable outputs.\n",
        "\n",
        "In the context of NLP, HMMs are often used for tasks such as part-of-speech tagging, where the hidden states represent the part-of-speech tags and the observable outputs are the words in a sentence. HMMs are particularly suitable for such sequential data modeling tasks.\n",
        "\n",
        "The book \"Speech and Language Processing\" by Jurafsky and Martin provides a comprehensive explanation of HMMs in Chapter 8, including the underlying mathematical concepts, the training algorithms, and applications in NLP. The chapter also covers various extensions and improvements to the basic HMM model, such as the use of different probability distributions and more sophisticated inference techniques.\n",
        "\n",
        "Let's break down the components of an HMM:\n",
        "\n",
        "* Hidden States: The hidden states in an HMM represent the latent variables that generate the observable outputs. For example, in part-of-speech tagging, the hidden states correspond to the different parts of speech (nouns, verbs, adjectives, etc.). The set of possible hidden states is denoted as S.\n",
        "\n",
        "* Observable Outputs: The observable outputs, also known as emissions, are the data or measurements that are observed. In part-of-speech tagging, the observable outputs correspond to the words in a sentence. The set of possible observable outputs is denoted as V.\n",
        "\n",
        "* Transition Probabilities: The transition probabilities model the probabilities of transitioning from one hidden state to another. These probabilities capture the underlying dynamics of the system. In part-of-speech tagging, the transition probabilities represent the likelihood of transitioning from one part of speech to another. The transition probabilities are denoted as A, where A(i, j) represents the probability of transitioning from state i to state j.\n",
        "\n",
        "* Emission Probabilities: The emission probabilities represent the probabilities of observing a specific output given a hidden state. In part-of-speech tagging, the emission probabilities capture the likelihood of observing a word given a particular part of speech. The emission probabilities are denoted as B, where B(j, k) represents the probability of emitting output k from state j.\n",
        "\n",
        "\n",
        "Implement an HMM-based POS tagger:\n",
        "\n",
        "* a. Train an HMM model on a labeled corpus to learn the  transition and emission probabilities.\n",
        "* b. Use the Viterbi algorithm to decode the most probable sequence of tags for a given sentence.\n",
        "* c. Apply the HMM tagger to a sample text and evaluate its accuracy."
      ],
      "metadata": {
        "id": "uyibrYW-PyKo"
      }
    },
    {
      "cell_type": "code",
      "source": [
        "\n",
        "# Part 2: Hidden Markov Models (HMM) for POS Tagging\n",
        "\n",
        "# HMM POS Tagger\n",
        "def hmm_pos_tagger(sentence):\n",
        "    # Train your HMM model on a labeled corpus\n",
        "    tagged_words = treebank.tagged_words()\n",
        "    # Train your HMM model here\n",
        "    # Apply the Viterbi algorithm to tag the sentence\n",
        "    tagged_sentence = []\n",
        "    words = word_tokenize(sentence)\n",
        "    # Apply Viterbi algorithm to get the most probable sequence of tags\n",
        "    # tagged_sentence = ...\n",
        "    return tagged_sentence"
      ],
      "metadata": {
        "id": "vzn3YRZsQcpY"
      },
      "execution_count": null,
      "outputs": []
    },
    {
      "cell_type": "code",
      "source": [
        "# HMM POS Tagging\n",
        "hmm_tags = hmm_pos_tagger(sample_sentence)\n",
        "print(\"HMM POS Tags:\")\n",
        "print(hmm_tags)\n"
      ],
      "metadata": {
        "id": "ltEUcahYUV88"
      },
      "execution_count": null,
      "outputs": []
    },
    {
      "cell_type": "markdown",
      "source": [
        "## III. Named Entity Recognition (NER) Methods and Evaluation\n",
        "\n",
        "Implement a rule-based NER system:\n",
        "a. Define a set of rules to identify named entities (e.g., person names, locations, organizations) in a text.\n",
        "b. Apply the rules to a sample text and evaluate the precision, recall, and F1-score of the NER system.\n",
        "\n",
        "Implement a statistical NER system using a pre-trained model:\n",
        "* a. Train a statistical NER model on a labeled corpus using machine learning techniques like Conditional Random Fields (CRF) or Support Vector Machines (SVM).\n",
        "* b. Apply the trained model to identify named entities in a sample text and evaluate its performance using precision, recall, and F1-score.\n",
        "\n",
        "Compare the performance of rule-based and statistical NER systems:\n",
        "* a. Apply both the rule-based and statistical NER systems to the same sample text.\n",
        "* b. Compare their precision, recall, and F1-score to analyze their strengths and weaknesses.\n",
        "\n",
        "Note: For evaluating the taggers and NER systems, you can use labeled datasets available in NLTK or other sources. You should report metrics such as accuracy, precision, recall, and F1-score for a comprehensive analysis of the implemented approaches."
      ],
      "metadata": {
        "id": "Ddk7unNBQdCg"
      }
    },
    {
      "cell_type": "code",
      "source": [
        "\n",
        "\n",
        "# Part 3: Named Entity Recognition (NER) Methods and Evaluation\n",
        "\n",
        "# Rule-based NER\n",
        "def rule_based_ner(sentence):\n",
        "    # Apply your rule-based NER here\n",
        "    tagged_sentence = ne_chunk(pos_tag(word_tokenize(sentence)))\n",
        "    return tagged_sentence\n",
        "\n",
        "# Statistical NER\n",
        "def statistical_ner(sentence):\n",
        "    # Train your statistical NER model on a labeled corpus\n",
        "    tagged_sentences = treebank.tagged_sents()\n",
        "    # Train your statistical NER model here\n",
        "    # Apply the trained model to identify named entities in the sentence\n",
        "    tagged_sentence = ...\n",
        "    return tagged_sentence"
      ],
      "metadata": {
        "id": "MKO6bnu8QnmE"
      },
      "execution_count": null,
      "outputs": []
    },
    {
      "cell_type": "code",
      "source": [
        "sample_sentence = \"Barack Obama was born in Hawaii.\"\n",
        "\n",
        "# Rule-based NER\n",
        "rule_based_ner_tags = rule_based_ner(sample_sentence)\n",
        "print(\"Rule-based NER Tags:\")\n",
        "print(rule_based_ner_tags)\n",
        "\n",
        "# Statistical NER\n",
        "statistical_ner_tags = statistical_ner(sample_sentence)\n",
        "print(\"Statistical NER Tags:\")\n",
        "print(statistical_ner_tags)\n"
      ],
      "metadata": {
        "id": "E5zgLyuFUcVp"
      },
      "execution_count": null,
      "outputs": []
    }
  ]
}